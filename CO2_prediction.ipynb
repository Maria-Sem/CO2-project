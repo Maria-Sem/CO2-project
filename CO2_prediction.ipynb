{
 "cells": [
  {
   "cell_type": "code",
   "execution_count": 1,
   "metadata": {},
   "outputs": [],
   "source": [
    "import matplotlib.pyplot as plt\n",
    "import numpy as np\n",
    "from tkinter import *"
   ]
  },
  {
   "cell_type": "code",
   "execution_count": 2,
   "metadata": {},
   "outputs": [
    {
     "data": {
      "image/png": "[encoded data removed]",
      "text/plain": [
       "<Figure size 432x288 with 1 Axes>"
      ]
     },
     "metadata": {
      "needs_background": "light"
     },
     "output_type": "display_data"
    }
   ],
   "source": [
    "conc = [0, 790, 1129, 1506, 1812, 2205, 2503, 3000, 3866, 4517, 4890, 4992]\n",
    "rez = [0, 21, 34, 46, 62, 81, 95, 105, 110, 117, 116, 118]\n",
    "plt.plot(conc, rez)\n",
    "plt.show()≈"
   ]
  },
  {
   "cell_type": "code",
   "execution_count": 3,
   "metadata": {},
   "outputs": [
    {
     "name": "stdin",
     "output_type": "stream",
     "text": [
      " 1581\n"
     ]
    },
    {
     "name": "stdout",
     "output_type": "stream",
     "text": [
      "49\n"
     ]
    }
   ],
   "source": [
    "c = int(input())\n",
    "ans = np.interp(c, conc, rez)\n",
    "print(int(ans))"
   ]
  },
  {
   "cell_type": "code",
   "execution_count": 93,
   "metadata": {},
   "outputs": [],
   "source": [
    "root = Tk()\n",
    "\n",
    "def button_click():\n",
    "    if req.get() != '':\n",
    "        ans = str(int(np.interp(int(req.get()), conc, rez)))\n",
    "        label2 = Label(frame, text = \"Поглощение СО2: \" + ans + ' ppm/час', fg = \"navy\", bg = 'spring green', font = 20).place(x = 40, y = 100)\n",
    "    elif req.get() == '':\n",
    "        ans = ''\n",
    "        label2 = Label(frame, text = ans, fg = \"navy\", bg = 'spring green', font = 20).place(x = 135, y = 100)\n",
    "   \n",
    "\n",
    "    \n",
    "\n",
    "root.wm_attributes(\"-alpha\", 1)\n",
    "root.geometry('300x250')\n",
    "\n",
    "canvas = Canvas(root, height = 300, width = 250)\n",
    "\n",
    "frame = Frame(root, bg = 'spring green')\n",
    "frame.place(relwidth = 1, relheight = 1)\n",
    "\n",
    "label1 = Label(frame, text = \"Введите начальную концентрацию CO2\" + \"\\n\" + \"(ppm)\", fg = \"navy\", bg = 'spring green', font = 10).place(x = 3, y = 20)\n",
    "\n",
    "\n",
    "label2 = Label(frame, text = '', fg = \"navy\", bg = 'spring green', font = 20).place(x = 135, y = 100)\n",
    "\n",
    "\n",
    "button = Button(root, text = 'Ok', bg = \"forest green\", fg = 'white', font = 30, command = button_click).place(x = 110, y = 150, width = 80, height = 50)\n",
    "\n",
    "req = Entry(frame, bg = 'white', width = 5, font = 30)\n",
    "req.place(x = 125, y = 70)\n",
    "\n",
    "\n",
    "root.mainloop()"
   ]
  },
  {
   "cell_type": "code",
   "execution_count": null,
   "metadata": {},
   "outputs": [],
   "source": []
  },
  {
   "cell_type": "code",
   "execution_count": null,
   "metadata": {},
   "outputs": [],
   "source": []
  }
 ],
 "metadata": {
  "kernelspec": {
   "display_name": "Python 3",
   "language": "python",
   "name": "python3"
  },
  "language_info": {
   "codemirror_mode": {
    "name": "ipython",
    "version": 3
   },
   "file_extension": ".py",
   "mimetype": "text/x-python",
   "name": "python",
   "nbconvert_exporter": "python",
   "pygments_lexer": "ipython3",
   "version": "3.8.6rc1"
  }
 },
 "nbformat": 4,
 "nbformat_minor": 4
}
